{
  "nbformat": 4,
  "nbformat_minor": 0,
  "metadata": {
    "kernelspec": {
      "display_name": "Python 3",
      "language": "python",
      "name": "python3"
    },
    "language_info": {
      "codemirror_mode": {
        "name": "ipython",
        "version": 3
      },
      "file_extension": ".py",
      "mimetype": "text/x-python",
      "name": "python",
      "nbconvert_exporter": "python",
      "pygments_lexer": "ipython3",
      "version": "3.7.3"
    },
    "colab": {
      "provenance": [],
      "include_colab_link": true
    }
  },
  "cells": [
    {
      "cell_type": "markdown",
      "metadata": {
        "id": "view-in-github",
        "colab_type": "text"
      },
      "source": [
        "<a href=\"https://colab.research.google.com/github/Sofvauc/ENTREGAS/blob/main/Copia_de_Notebook_5.ipynb\" target=\"_parent\"><img src=\"https://colab.research.google.com/assets/colab-badge.svg\" alt=\"Open In Colab\"/></a>"
      ]
    },
    {
      "cell_type": "markdown",
      "metadata": {
        "id": "Gp2WddtV9IwG"
      },
      "source": [
        "# Programa Ingenias+ Data Science"
      ]
    },
    {
      "cell_type": "markdown",
      "metadata": {
        "id": "H4M1yVbf9IwH"
      },
      "source": [
        "Como dijimos en clases anteriores, Python tiene implementadas muchas librerias para poder trabajar con datos. En la clase de hoy trabajaremos con una de ellas: `Numpy`."
      ]
    },
    {
      "cell_type": "markdown",
      "metadata": {
        "id": "GdTT8WeL9IwI"
      },
      "source": [
        "Antes de comenzar, vamos a hablar un poco de esta libreria o modulo.\n",
        "\n",
        "**Numpy** es una librería optimizada para realizar cálculos numéricos con vectores y matrices. A diferencia de otros lenguajes de programación, Python no posee en su estructura central la figura de matrices. Eso quiere decir que para poder trabajar con esta estructura de datos deberiamos trabajar con listas de listas. NumPy introduce el concepto de arrays o matrices."
      ]
    },
    {
      "cell_type": "markdown",
      "metadata": {
        "id": "qWkq3EHK9IwK"
      },
      "source": [
        "Al ser de código abierto, `numpy` posee una documentación muy amplia que es **SIEMPRE RECOMENDABLE** consultar."
      ]
    },
    {
      "cell_type": "markdown",
      "metadata": {
        "id": "nxe3KLUO9IwL"
      },
      "source": [
        "- [Documentacion NumPy](https://devdocs.io/numpy/)"
      ]
    },
    {
      "cell_type": "markdown",
      "metadata": {
        "id": "l1Ay3nSs9IwN"
      },
      "source": [
        "## Clase 4: Introduccion a NumPy"
      ]
    },
    {
      "cell_type": "markdown",
      "metadata": {
        "id": "X03mviQS9IyL"
      },
      "source": [
        "# Ejercicios\n",
        "\n",
        "1. Crear un arreglo de ceros de longitud 12\n",
        "2. Crear un arreglo de longitud 10 con ceros en todas sus posiciones y un 10 en la posición número 5\n",
        "3. Crear un arreglo que tenga los números del 10 al 49\n",
        "4. Crear una arreglo 2d de shape (3, 3) que tenga los números del 0 al 8\n",
        "5. Crear un arreglo de números aleatorios de longitud 100 y obtener su media y varianza\n",
        "6. Calcular la media de un arreglo usando np.sum\n",
        "7. Calcular la varianza de un arreglo usando np.sum y np.mean\n",
        "8. Crear un array de números aleatorios usando np.random.randn.\n"
      ]
    },
    {
      "cell_type": "markdown",
      "source": [],
      "metadata": {
        "id": "KeZunhlaX0pz"
      }
    },
    {
      "cell_type": "code",
      "metadata": {
        "id": "G0NMKT609IyM",
        "outputId": "712a4311-deaa-4961-80ff-b673ab17c74c",
        "colab": {
          "base_uri": "https://localhost:8080/"
        }
      },
      "source": [
        "# @title Texto de título predeterminado\n",
        "import numpy as np\n",
        "\n",
        "# Crear un arreglo de ceros de tamaño 12\n",
        "arreglo_ceros = np.zeros(12)\n",
        "\n",
        "print(\"Arreglo de ceros:\")\n",
        "print(arreglo_ceros)"
      ],
      "execution_count": null,
      "outputs": [
        {
          "output_type": "stream",
          "name": "stdout",
          "text": [
            "Arreglo de ceros:\n",
            "[0. 0. 0. 0. 0. 0. 0. 0. 0. 0. 0. 0.]\n"
          ]
        }
      ]
    },
    {
      "cell_type": "code",
      "source": [
        "arreglo_ceros = np.zeros(10)\n",
        "arreglo_ceros[4] = 10\n",
        "\n",
        "print(\"Arreglo:\")\n",
        "print(arreglo_ceros)\n"
      ],
      "metadata": {
        "colab": {
          "base_uri": "https://localhost:8080/"
        },
        "id": "llLo252MJPiA",
        "outputId": "5bcbd7d5-8ee4-45b6-ac6e-7588a263fcc0"
      },
      "execution_count": null,
      "outputs": [
        {
          "output_type": "stream",
          "name": "stdout",
          "text": [
            "Arreglo:\n",
            "[ 0.  0.  0.  0. 10.  0.  0.  0.  0.  0.]\n"
          ]
        }
      ]
    },
    {
      "cell_type": "code",
      "source": [
        "arreglo = np.arange(10,50)\n",
        "\n",
        "print(\"arreglo:\")\n",
        "print(arreglo)"
      ],
      "metadata": {
        "colab": {
          "base_uri": "https://localhost:8080/"
        },
        "id": "8S0FZsgkKupP",
        "outputId": "351d7e1f-5075-436d-d34a-c4ede3efd7d0"
      },
      "execution_count": null,
      "outputs": [
        {
          "output_type": "stream",
          "name": "stdout",
          "text": [
            "arreglo:\n",
            "[10 11 12 13 14 15 16 17 18 19 20 21 22 23 24 25 26 27 28 29 30 31 32 33\n",
            " 34 35 36 37 38 39 40 41 42 43 44 45 46 47 48 49]\n"
          ]
        }
      ]
    },
    {
      "cell_type": "code",
      "source": [
        "arreglo = np.array([[0, 1, 2], [3, 4, 5], [6, 7, 8]])\n",
        "\n",
        "print(arreglo)"
      ],
      "metadata": {
        "colab": {
          "base_uri": "https://localhost:8080/"
        },
        "id": "7K5wt_j5PoWf",
        "outputId": "55b4677c-3a35-498e-8cc8-244f5dbbb986"
      },
      "execution_count": null,
      "outputs": [
        {
          "output_type": "stream",
          "name": "stdout",
          "text": [
            "[[0 1 2]\n",
            " [3 4 5]\n",
            " [6 7 8]]\n"
          ]
        }
      ]
    },
    {
      "cell_type": "code",
      "source": [
        "arreglo = np.random.randn(100)\n",
        "print(\"arreglo:\")\n",
        "print(arreglo)\n",
        "\n",
        "print(\"media de mi arreglo\")\n",
        "np.mean(arreglo)"
      ],
      "metadata": {
        "colab": {
          "base_uri": "https://localhost:8080/"
        },
        "id": "botWN5umRUGH",
        "outputId": "e7529ac8-8c4b-489e-f726-650e88b8a5df"
      },
      "execution_count": null,
      "outputs": [
        {
          "output_type": "stream",
          "name": "stdout",
          "text": [
            "arreglo:\n",
            "[ 1.04064828  1.33199424 -0.8214637   2.38924566  0.74284248 -0.45639067\n",
            "  0.22841352  1.91493196 -0.55510983 -0.75325708  0.1420783   1.62822372\n",
            " -0.76953979  2.89834319 -0.21882343 -1.15891495 -1.60503605  0.2613277\n",
            "  0.17757839 -0.46859742  0.27475732  0.58716176 -0.17942426 -0.6558532\n",
            "  0.18269334  0.88961893  1.37613586  0.47151274  0.71875156  0.22045788\n",
            " -0.33100308 -0.85726833  0.10122426  0.36618125 -0.5134687   0.09657439\n",
            "  1.43390614  0.24650602 -0.55874654 -0.68134274 -0.43915425 -0.70520587\n",
            " -0.1064867  -1.02143541  0.51825484  0.26346044 -0.63257042 -0.18215895\n",
            "  0.12101606 -1.01949268  0.96121969  0.41581469  0.25956566  0.14775528\n",
            "  0.91565847 -0.41927621  0.15151904  0.53008087  1.40279532  0.82476266\n",
            " -0.60864227 -1.09261655 -0.01723456 -0.11912808  1.00310974 -0.03554892\n",
            "  0.37172662 -0.80275446 -1.09403333  0.14807976  1.528502    1.37165773\n",
            " -1.28495439 -1.86610217 -1.10983074 -2.08966116 -1.7039365  -0.02930304\n",
            "  0.65071661 -0.47253411 -0.46084567  0.38817601  0.43490262  2.17954003\n",
            " -3.03466206 -2.10891536 -0.93554396 -0.38242572 -1.11063277 -0.82097543\n",
            "  0.40990099  0.8296481  -0.7796625   0.78126154 -0.73746591 -2.31217808\n",
            "  0.86237835 -0.60046643 -0.37384205  2.79523541]\n",
            "media de mi arreglo\n"
          ]
        },
        {
          "output_type": "execute_result",
          "data": {
            "text/plain": [
              "-0.011060690999698721"
            ]
          },
          "metadata": {},
          "execution_count": 33
        }
      ]
    },
    {
      "cell_type": "code",
      "source": [
        "print(\"varianza de mi arreglo\")\n",
        "np.var(arreglo)\n",
        "\n",
        "# esta mal la varianza como mucha da 1"
      ],
      "metadata": {
        "colab": {
          "base_uri": "https://localhost:8080/"
        },
        "id": "LuNnb6cHSxCP",
        "outputId": "d280a627-67b5-45e3-b85d-725771767ea5"
      },
      "execution_count": null,
      "outputs": [
        {
          "output_type": "stream",
          "name": "stdout",
          "text": [
            "varianza de mi arreglo\n"
          ]
        },
        {
          "output_type": "execute_result",
          "data": {
            "text/plain": [
              "1.1434345968878765"
            ]
          },
          "metadata": {},
          "execution_count": 49
        }
      ]
    },
    {
      "cell_type": "code",
      "source": [
        "#calcular la media haciendo el promedio usando np.sum\n",
        "\n",
        "suma = np.sum(arreglo)\n",
        "prom = suma / 100\n",
        "\n",
        "print(prom)\n"
      ],
      "metadata": {
        "colab": {
          "base_uri": "https://localhost:8080/"
        },
        "id": "X90BdSXHTL8e",
        "outputId": "ec69c524-8a30-4ee5-9cec-f19c8e506cfb"
      },
      "execution_count": null,
      "outputs": [
        {
          "output_type": "stream",
          "name": "stdout",
          "text": [
            "-0.011060690999698721\n"
          ]
        }
      ]
    },
    {
      "cell_type": "code",
      "source": [
        " arreglo = np.random.randn(100)\n",
        "\n",
        " prom = np.mean(arreglo)\n",
        "\n",
        " numerador = np.sum((arreglo - prom )**2)\n",
        "\n",
        " varianza = numerador /100\n",
        "\n",
        " print(\"varianza:\")\n",
        " print(varianza)\n",
        "\n"
      ],
      "metadata": {
        "colab": {
          "base_uri": "https://localhost:8080/"
        },
        "id": "G5uTfsHKU7SH",
        "outputId": "523e26b6-e5fa-43bf-f7ea-07603558f43c"
      },
      "execution_count": null,
      "outputs": [
        {
          "output_type": "stream",
          "name": "stdout",
          "text": [
            "varianza:\n",
            "1.1434345968878765\n"
          ]
        }
      ]
    },
    {
      "cell_type": "code",
      "source": [
        "arreglo = np.random.randn(10)\n",
        "\n",
        "print(arreglo)"
      ],
      "metadata": {
        "colab": {
          "base_uri": "https://localhost:8080/"
        },
        "id": "qsENFiHVXS2X",
        "outputId": "71f963fb-ed07-4667-beda-464e0d2e9652"
      },
      "execution_count": null,
      "outputs": [
        {
          "output_type": "stream",
          "name": "stdout",
          "text": [
            "[-0.43793118  1.24788376 -2.12201656  0.94781622  2.01534592 -0.67459504\n",
            "  1.66068941  0.54389698 -0.43831365 -1.14121881]\n"
          ]
        }
      ]
    }
  ]
}